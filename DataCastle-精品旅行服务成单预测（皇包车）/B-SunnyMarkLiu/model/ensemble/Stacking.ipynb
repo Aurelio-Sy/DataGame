{
 "cells": [
  {
   "cell_type": "code",
   "execution_count": 1,
   "metadata": {
    "collapsed": true
   },
   "outputs": [],
   "source": [
    "import os\n",
    "import sys\n",
    "\n",
    "import cPickle\n",
    "\n",
    "module_path = os.path.abspath(os.path.join('../../'))\n",
    "sys.path.append(module_path)\n",
    "\n",
    "import numpy as np\n",
    "import pandas as pd\n",
    "from sklearn.linear_model import LogisticRegression\n",
    "from sklearn.metrics import auc, roc_curve\n",
    "\n",
    "import matplotlib\n",
    "import matplotlib.pyplot as plt\n",
    "import seaborn as sns\n",
    "sns.set_style('whitegrid')\n",
    "color = sns.color_palette()\n",
    "%matplotlib inline\n",
    "matplotlib.style.use('ggplot')\n",
    "\n",
    "from utils import xgb_utils\n",
    "from conf.configure import Configure"
   ]
  },
  {
   "cell_type": "code",
   "execution_count": 2,
   "metadata": {},
   "outputs": [
    {
     "name": "stdout",
     "output_type": "stream",
     "text": [
      "(40307, 2) (10076, 1)\n"
     ]
    }
   ],
   "source": [
    "train = pd.read_csv(Configure.base_path + 'train/orderFuture_train.csv', encoding='utf8')\n",
    "test = pd.read_csv(Configure.base_path + 'test/orderFuture_test.csv', encoding='utf8')\n",
    "print train.shape, test.shape"
   ]
  },
  {
   "cell_type": "markdown",
   "metadata": {},
   "source": [
    "## 加载 lq 数据集 RF 和 ET 预测结果"
   ]
  },
  {
   "cell_type": "code",
   "execution_count": 3,
   "metadata": {},
   "outputs": [
    {
     "name": "stdout",
     "output_type": "stream",
     "text": [
      "(40307, 22) (10076, 21)\n"
     ]
    }
   ],
   "source": [
    "with open('lq_dataset_et_train.pkl', \"rb\") as f:\n",
    "    lq_et_train = cPickle.load(f)\n",
    "with open('lq_dataset_et_test.pkl', \"rb\") as f:\n",
    "    lq_et_test = cPickle.load(f)\n",
    "\n",
    "with open('lq_dataset_rf_train.pkl', \"rb\") as f:\n",
    "    lq_rf_train = cPickle.load(f)\n",
    "with open('lq_dataset_rf_test.pkl', \"rb\") as f:\n",
    "    lq_rf_test = cPickle.load(f)\n",
    "\n",
    "train = pd.merge(train, lq_et_train, on='userid', how='left')\n",
    "train = pd.merge(train, lq_rf_train, on='userid', how='left')\n",
    "\n",
    "test = pd.merge(test, lq_et_test, on='userid', how='left')\n",
    "test = pd.merge(test, lq_rf_test, on='userid', how='left')\n",
    "\n",
    "print train.shape, test.shape"
   ]
  },
  {
   "cell_type": "markdown",
   "metadata": {},
   "source": [
    "## 加载 lq 数据集 Adaboost 预测结果"
   ]
  },
  {
   "cell_type": "code",
   "execution_count": 4,
   "metadata": {},
   "outputs": [
    {
     "name": "stdout",
     "output_type": "stream",
     "text": [
      "(40307, 23) (10076, 22)\n"
     ]
    }
   ],
   "source": [
    "with open('lq_dataset_ada_train.pkl', \"rb\") as f:\n",
    "    lq_train = cPickle.load(f)\n",
    "with open('lq_dataset_ada_test.pkl', \"rb\") as f:\n",
    "    lq_test = cPickle.load(f)\n",
    "\n",
    "train = pd.merge(train, lq_train, on='userid', how='left')\n",
    "test = pd.merge(test, lq_test, on='userid', how='left')\n",
    "\n",
    "print train.shape, test.shape"
   ]
  },
  {
   "cell_type": "markdown",
   "metadata": {},
   "source": [
    "## 加载 lq 数据集 XGB 和 LGBM 预测结果"
   ]
  },
  {
   "cell_type": "code",
   "execution_count": 5,
   "metadata": {},
   "outputs": [
    {
     "name": "stdout",
     "output_type": "stream",
     "text": [
      "(40307, 63) (10076, 62)\n"
     ]
    }
   ],
   "source": [
    "train_files = os.listdir('./train')\n",
    "for train_f in train_files:\n",
    "    if train_f.startswith('lq'):\n",
    "        lq_train = pd.read_csv('./train/'+train_f)\n",
    "        train = pd.merge(train, lq_train, on='userid', how='left')\n",
    "\n",
    "test_files = os.listdir('./test')\n",
    "for test_f in test_files:\n",
    "    if test_f.startswith('lq'):\n",
    "        lq_test = pd.read_csv('./test/'+test_f)\n",
    "        test = pd.merge(test, lq_test, on='userid', how='left')\n",
    "\n",
    "print train.shape, test.shape"
   ]
  },
  {
   "cell_type": "markdown",
   "metadata": {},
   "source": [
    "## 加载 lq 数据集 Catboost 预测结果"
   ]
  },
  {
   "cell_type": "code",
   "execution_count": 6,
   "metadata": {},
   "outputs": [
    {
     "name": "stdout",
     "output_type": "stream",
     "text": [
      "(40307, 73) (10076, 72)\n"
     ]
    }
   ],
   "source": [
    "train_files = os.listdir('./train/catboost')\n",
    "for train_f in train_files:\n",
    "    if train_f.startswith('lq'):\n",
    "        lq_train = pd.read_csv('./train/catboost/'+train_f)\n",
    "        train = pd.merge(train, lq_train, on='userid', how='left')\n",
    "\n",
    "test_files = os.listdir('./test/catboost')\n",
    "for test_f in test_files:\n",
    "    if test_f.startswith('lq'):\n",
    "        lq_test = pd.read_csv('./test/catboost/'+test_f)\n",
    "        test = pd.merge(test, lq_test, on='userid', how='left')\n",
    "\n",
    "print train.shape, test.shape"
   ]
  },
  {
   "cell_type": "markdown",
   "metadata": {},
   "source": [
    "## 加载 hl 数据集 XGB 和 LGBM 预测结果"
   ]
  },
  {
   "cell_type": "code",
   "execution_count": 7,
   "metadata": {},
   "outputs": [
    {
     "name": "stdout",
     "output_type": "stream",
     "text": [
      "(40307, 113) (10076, 112)\n"
     ]
    }
   ],
   "source": [
    "train_files = os.listdir('./train')\n",
    "for train_f in train_files:\n",
    "    if train_f.startswith('hl'):\n",
    "        lq_train = pd.read_csv('./train/'+train_f)\n",
    "        train = pd.merge(train, lq_train, on='userid', how='left')\n",
    "\n",
    "test_files = os.listdir('./test')\n",
    "for test_f in test_files:\n",
    "    if test_f.startswith('hl'):\n",
    "        lq_test = pd.read_csv('./test/'+test_f)\n",
    "        test = pd.merge(test, lq_test, on='userid', how='left')\n",
    "        \n",
    "print train.shape, test.shape"
   ]
  },
  {
   "cell_type": "markdown",
   "metadata": {},
   "source": [
    "## 加载 hl 数据集 RF 和 ET 预测结果"
   ]
  },
  {
   "cell_type": "code",
   "execution_count": 8,
   "metadata": {},
   "outputs": [
    {
     "name": "stdout",
     "output_type": "stream",
     "text": [
      "(40307, 133) (10076, 132)\n"
     ]
    }
   ],
   "source": [
    "with open('hl_dataset_et_train.pkl', \"rb\") as f:\n",
    "    hl_et_train = cPickle.load(f)\n",
    "with open('hl_dataset_et_test.pkl', \"rb\") as f:\n",
    "    hl_et_test = cPickle.load(f)\n",
    "\n",
    "with open('hl_dataset_rf_train.pkl', \"rb\") as f:\n",
    "    hl_rf_train = cPickle.load(f)\n",
    "with open('hl_dataset_rf_test.pkl', \"rb\") as f:\n",
    "    hl_rf_test = cPickle.load(f)\n",
    "\n",
    "train = pd.merge(train, hl_et_train, on='userid', how='left')\n",
    "train = pd.merge(train, hl_rf_train, on='userid', how='left')\n",
    "\n",
    "test = pd.merge(test, hl_et_test, on='userid', how='left')\n",
    "test = pd.merge(test, hl_rf_test, on='userid', how='left')\n",
    "\n",
    "print train.shape, test.shape"
   ]
  },
  {
   "cell_type": "markdown",
   "metadata": {},
   "source": [
    "## 加载 hl 数据集 Catboost 预测结果"
   ]
  },
  {
   "cell_type": "code",
   "execution_count": 9,
   "metadata": {},
   "outputs": [
    {
     "name": "stdout",
     "output_type": "stream",
     "text": [
      "(40307, 141) (10076, 140)\n"
     ]
    }
   ],
   "source": [
    "train_files = os.listdir('./train/catboost')\n",
    "for train_f in train_files:\n",
    "    if train_f.startswith('hl'):\n",
    "        lq_train = pd.read_csv('./train/catboost/'+train_f)\n",
    "        train = pd.merge(train, lq_train, on='userid', how='left')\n",
    "\n",
    "test_files = os.listdir('./test/catboost')\n",
    "for test_f in test_files:\n",
    "    if test_f.startswith('hl'):\n",
    "        lq_test = pd.read_csv('./test/catboost/'+test_f)\n",
    "        test = pd.merge(test, lq_test, on='userid', how='left')\n",
    "\n",
    "print train.shape, test.shape"
   ]
  },
  {
   "cell_type": "markdown",
   "metadata": {},
   "source": [
    "## 加载 sqg 数据集 XGB 和 LGBM 预测结果"
   ]
  },
  {
   "cell_type": "code",
   "execution_count": 10,
   "metadata": {},
   "outputs": [
    {
     "name": "stdout",
     "output_type": "stream",
     "text": [
      "(40307, 186) (10076, 185)\n"
     ]
    }
   ],
   "source": [
    "train_files = os.listdir('./train')\n",
    "for train_f in train_files:\n",
    "    if train_f.startswith('sqg'):\n",
    "        sqg_train = pd.read_csv('./train/'+train_f)\n",
    "        train = pd.merge(train, sqg_train, on='userid', how='left')\n",
    "\n",
    "test_files = os.listdir('./test')\n",
    "for test_f in test_files:\n",
    "    if test_f.startswith('sqg'):\n",
    "        sqg_test = pd.read_csv('./test/'+test_f)\n",
    "        test = pd.merge(test, sqg_test, on='userid', how='left')\n",
    "\n",
    "print train.shape, test.shape"
   ]
  },
  {
   "cell_type": "markdown",
   "metadata": {},
   "source": [
    "## 加载 sqg 数据集 RF 和 ET 预测结果"
   ]
  },
  {
   "cell_type": "code",
   "execution_count": 11,
   "metadata": {},
   "outputs": [
    {
     "name": "stdout",
     "output_type": "stream",
     "text": [
      "(40307, 206) (10076, 205)\n"
     ]
    }
   ],
   "source": [
    "with open('sqg_dataset_et_train.pkl', \"rb\") as f:\n",
    "    sqg_et_train = cPickle.load(f)\n",
    "with open('sqg_dataset_et_test.pkl', \"rb\") as f:\n",
    "    sqg_et_test = cPickle.load(f)\n",
    "\n",
    "with open('sqg_dataset_rf_train.pkl', \"rb\") as f:\n",
    "    sqg_rf_train = cPickle.load(f)\n",
    "with open('sqg_dataset_rf_test.pkl', \"rb\") as f:\n",
    "    sqg_rf_test = cPickle.load(f)\n",
    "\n",
    "train = pd.merge(train, sqg_et_train, on='userid', how='left')\n",
    "train = pd.merge(train, sqg_rf_train, on='userid', how='left')\n",
    "\n",
    "test = pd.merge(test, sqg_et_test, on='userid', how='left')\n",
    "test = pd.merge(test, sqg_rf_test, on='userid', how='left')\n",
    "\n",
    "print train.shape, test.shape"
   ]
  },
  {
   "cell_type": "markdown",
   "metadata": {},
   "source": [
    "## 加载 sqg 数据集 Catboost 预测结果"
   ]
  },
  {
   "cell_type": "code",
   "execution_count": 12,
   "metadata": {},
   "outputs": [
    {
     "name": "stdout",
     "output_type": "stream",
     "text": [
      "(40307, 211) (10076, 210)\n"
     ]
    }
   ],
   "source": [
    "train_files = os.listdir('./train/')\n",
    "for train_f in train_files:\n",
    "    if train_f.startswith('sqg_cat'):\n",
    "        sqg_train = pd.read_csv('./train/'+train_f)\n",
    "        sqg_train.columns = ['userid', 'sqg_{}'.format(sqg_train.columns.values[1])]\n",
    "        train = pd.merge(train, sqg_train, on='userid', how='left')\n",
    "\n",
    "test_files = os.listdir('./test/')\n",
    "for test_f in test_files:\n",
    "    if test_f.startswith('sqg_cat'):\n",
    "        sqg_test = pd.read_csv('./test/'+test_f)\n",
    "        sqg_test.columns = ['userid', 'sqg_{}'.format(sqg_test.columns.values[1])]\n",
    "        test = pd.merge(test, sqg_test, on='userid', how='left')\n",
    "\n",
    "print train.shape, test.shape"
   ]
  },
  {
   "cell_type": "markdown",
   "metadata": {},
   "source": [
    "## 添加原始主要特征"
   ]
  },
  {
   "cell_type": "code",
   "execution_count": 13,
   "metadata": {},
   "outputs": [
    {
     "name": "stdout",
     "output_type": "stream",
     "text": [
      "(40307, 239) (10076, 238)\n"
     ]
    }
   ],
   "source": [
    "from get_datasets import load_datasets\n",
    "\n",
    "with open('../train_0.97329.pkl', \"rb\") as f:\n",
    "    lq_train = cPickle.load(f)\n",
    "with open('../test_0.97329.pkl', \"rb\") as f:\n",
    "    lq_test = cPickle.load(f)\n",
    "\n",
    "used_features = ['userid', 'goodorder_vs_actiontype_1_ratio', 'isOrder', 'total_good_order_ratio',\n",
    "                'history_order_type_sum_lg0', 'goodorder_vs_actiontype_5_ratio', 'finalAction_4',\n",
    "                'action_type_511_time_delta_min', 'finalAction_8', 'action_type_511_time_delta_max',\n",
    "                'goodorder_vs_actiontype_6_ratio', 'type_1to4valuemean', 'histord_sum_cont4',\n",
    "                'age_lg90', 'three_gram_789_last_time', 'three_gram_789_time_mean',\n",
    "                'action_type_710_time_delta_min', 'three_gram_456_time_min', \n",
    "                 'three_gram_action_456_ratio', 'pay_money_min_delta']\n",
    "\n",
    "train = pd.merge(train, lq_train[used_features], on='userid', how='left')\n",
    "test = pd.merge(test, lq_test[used_features], on='userid', how='left')\n",
    "\n",
    "hl_train = pd.read_csv(Configure.base_path + 'huang_lin/train_dataHL.csv')\n",
    "hl_test = pd.read_csv(Configure.base_path + 'huang_lin/test_dataHL.csv')\n",
    "used_features = ['userid', 'endclosest_3_4', 'endclosest_3_3', 'actionType_recent_time_3',\n",
    "                 'type_3to4valueamin', 'minute_last', 'rangeTime_to_end5','typeend3_4diff',\n",
    "                 'endclosest_1_3', 'action_end1Browse', 'actionType_recent_time_4',\n",
    "                 'actionType5_Per', 'type_4to4valuemean', 'hour_last', 'type_3to4valuemean',\n",
    "                 'actionType_recent_time_1', 'endclosest_1_4', 'rangeTime_to_begin6',\n",
    "                 'endclosest_4_4']\n",
    "# train = pd.merge(train, hl_train[used_features], on='userid', how='left')\n",
    "# test = pd.merge(test, hl_test[used_features], on='userid', how='left')\n",
    "\n",
    "qg_train = pd.read_csv(Configure.base_path + 'sun_qian_guo/train.csv')\n",
    "qg_test = pd.read_csv(Configure.base_path + 'sun_qian_guo/test.csv')\n",
    "used_features = ['userid', 'recentmin5', 'lastBrowse', 'browseLastTwo',\n",
    "                '1To6Timemin', '5To6Timemin', 'recentmax5', 'typeDismax6',\n",
    "                'recentmin1', '6To5Timemin']\n",
    "train = pd.merge(train, qg_train[used_features], on='userid', how='left')\n",
    "test = pd.merge(test, qg_test[used_features], on='userid', how='left')\n",
    "\n",
    "print train.shape, test.shape"
   ]
  },
  {
   "cell_type": "code",
   "execution_count": 14,
   "metadata": {},
   "outputs": [
    {
     "name": "stdout",
     "output_type": "stream",
     "text": [
      "(40307, 232) (10076, 231)\n"
     ]
    }
   ],
   "source": [
    "# 删除一些特征\n",
    "remove_features = ['histord_sum_cont4', 'action_type_511_time_delta_min', 'finalAction_8',\n",
    "                  'goodorder_vs_actiontype_6_ratio', 'type_1to4valuemean', 'total_good_order_ratio',\n",
    "                  'goodorder_vs_actiontype_5_ratio']\n",
    "train.drop(remove_features, axis=1, inplace=True)\n",
    "test.drop(remove_features, axis=1, inplace=True)\n",
    "\n",
    "print train.shape, test.shape"
   ]
  },
  {
   "cell_type": "code",
   "execution_count": 15,
   "metadata": {
    "scrolled": false
   },
   "outputs": [],
   "source": [
    "# plt.figure(figsize=(8,6))\n",
    "# sns.heatmap(train.corr(), xticklabels=False, yticklabels=False)\n",
    "# plt.show()"
   ]
  },
  {
   "cell_type": "markdown",
   "metadata": {},
   "source": [
    "# Save level-1 dataset"
   ]
  },
  {
   "cell_type": "code",
   "execution_count": 16,
   "metadata": {
    "collapsed": true
   },
   "outputs": [],
   "source": [
    "with open('level1_train.pkl', \"wb\") as f:\n",
    "    cPickle.dump(train, f, -1)\n",
    "    \n",
    "with open('level1_test.pkl', \"wb\") as f:\n",
    "    cPickle.dump(test, f, -1)"
   ]
  },
  {
   "cell_type": "markdown",
   "metadata": {},
   "source": [
    "# Level 2"
   ]
  },
  {
   "cell_type": "code",
   "execution_count": 17,
   "metadata": {},
   "outputs": [
    {
     "name": "stdout",
     "output_type": "stream",
     "text": [
      "(40307, 232) (10076, 231)\n"
     ]
    }
   ],
   "source": [
    "print train.shape, test.shape"
   ]
  },
  {
   "cell_type": "code",
   "execution_count": 18,
   "metadata": {},
   "outputs": [
    {
     "name": "stdout",
     "output_type": "stream",
     "text": [
      "train: (40307, 230), test: (10076, 230), feature count: 230, orderType 1:0 = 0.16436\n"
     ]
    }
   ],
   "source": [
    "import xgboost as xgb\n",
    "\n",
    "y_train_all = train['orderType']\n",
    "\n",
    "submit_df = pd.DataFrame({'userid': test['userid']})\n",
    "\n",
    "train.drop(['orderType', 'userid'], axis=1, inplace=True)\n",
    "test.drop(['userid'], axis=1, inplace=True)\n",
    "\n",
    "train = train[test.columns.values]\n",
    "\n",
    "df_columns = train.columns.values\n",
    "print('train: {}, test: {}, feature count: {}, orderType 1:0 = {:.5f}'.format(\n",
    "    train.shape, test.shape, len(df_columns), 1.0*sum(y_train_all) / len(y_train_all)))"
   ]
  },
  {
   "cell_type": "code",
   "execution_count": 19,
   "metadata": {},
   "outputs": [
    {
     "data": {
      "text/plain": [
       "0.1966925954515765"
      ]
     },
     "execution_count": 19,
     "metadata": {},
     "output_type": "execute_result"
    }
   ],
   "source": [
    "1.0*sum(y_train_all) / (len(y_train_all) - sum(y_train_all))"
   ]
  },
  {
   "cell_type": "code",
   "execution_count": 21,
   "metadata": {},
   "outputs": [
    {
     "name": "stdout",
     "output_type": "stream",
     "text": [
      "---> cv train to choose best_num_boost_round\n",
      "[0]\ttrain-auc:0.96922\ttest-auc:0.961531\n",
      "[100]\ttrain-auc:0.986698\ttest-auc:0.972854\n",
      "[200]\ttrain-auc:0.990352\ttest-auc:0.973611\n",
      "[300]\ttrain-auc:0.992603\ttest-auc:0.973728\n",
      "[400]\ttrain-auc:0.994027\ttest-auc:0.973879\n",
      "[500]\ttrain-auc:0.994957\ttest-auc:0.973923\n",
      "best_num_boost_rounds = 443\n",
      "mean_train_auc = 0.9943990 , mean_test_auc = 0.9739445\n",
      "\n"
     ]
    }
   ],
   "source": [
    "xgb_params = {\n",
    "    'alpha': 0.1,\n",
    "    'booster': 'gbtree',\n",
    "    'colsample_bytree': 0.7,\n",
    "    'eta': 0.01,\n",
    "    'eval_metric': 'auc',\n",
    "    'gamma': 2,\n",
    "    'gpu_id': 2,\n",
    "    'lambda': 1,\n",
    "    'max_depth': 10,\n",
    "    'min_child_weight': 3,\n",
    "    'nthread': -1,\n",
    "    'objective': 'binary:logistic',\n",
    "    'scale_pos_weight': 1,\n",
    "    'silent': 1,\n",
    "    'subsample': 0.6,\n",
    "    'updater': 'grow_gpu'\n",
    "}\n",
    "\n",
    "print('---> cv train to choose best_num_boost_round')\n",
    "dtrain_all = xgb.DMatrix(train.values, y_train_all, feature_names=df_columns)\n",
    "dtest = xgb.DMatrix(test, feature_names=df_columns)\n",
    "\n",
    "# 4-折 valid 为 10077 和 测试集大小一致\n",
    "nfold = 3\n",
    "cv_result = xgb.cv(dict(xgb_params),\n",
    "                   dtrain_all,\n",
    "                   nfold=nfold,\n",
    "                   stratified=True,\n",
    "                   num_boost_round=4000,\n",
    "                   early_stopping_rounds=100,\n",
    "                   verbose_eval=100,\n",
    "                   show_stdv=False,\n",
    "                   )\n",
    "best_num_boost_rounds = len(cv_result)\n",
    "mean_train_logloss = cv_result.loc[best_num_boost_rounds-11 : best_num_boost_rounds-1, 'train-auc-mean'].mean()\n",
    "mean_test_logloss = cv_result.loc[best_num_boost_rounds-11 : best_num_boost_rounds-1, 'test-auc-mean'].mean()\n",
    "print('best_num_boost_rounds = {}'.format(best_num_boost_rounds))\n",
    "print('mean_train_auc = {:.7f} , mean_test_auc = {:.7f}\\n'.format(mean_train_logloss, mean_test_logloss))"
   ]
  },
  {
   "cell_type": "markdown",
   "metadata": {},
   "source": [
    "- 调参之前：    mean_train_auc = 0.9907898 , mean_test_auc = 0.9733552\n",
    "- 调参之后：    mean_train_auc = 0.9810015 , mean_test_auc = 0.9736901\n",
    "- 删除特征：    mean_train_auc = 0.9799322 , mean_test_auc = 0.9736705\n",
    "- 10个lq-catboost：mean_train_auc = 0.9802385 , mean_test_auc = 0.9740707\n",
    "- mean_train_auc = 0.9834573 , mean_test_auc = 0.9741202\n"
   ]
  },
  {
   "cell_type": "code",
   "execution_count": 22,
   "metadata": {
    "scrolled": true
   },
   "outputs": [
    {
     "name": "stdout",
     "output_type": "stream",
     "text": [
      "---> training on total dataset\n"
     ]
    }
   ],
   "source": [
    "print('---> training on total dataset')\n",
    "\n",
    "model = xgb.train(dict(xgb_params),\n",
    "                  dtrain_all,\n",
    "                  num_boost_round=best_num_boost_rounds)"
   ]
  },
  {
   "cell_type": "code",
   "execution_count": 23,
   "metadata": {},
   "outputs": [
    {
     "name": "stdout",
     "output_type": "stream",
     "text": [
      "---> predict test\n",
      "-------- predict and valid check  ------\n",
      "test count mean: 0.165553 , std: 0.313583\n",
      "done.\n"
     ]
    }
   ],
   "source": [
    "import time\n",
    "\n",
    "print('---> predict test')\n",
    "y_pred = model.predict(dtest, ntree_limit=model.best_ntree_limit)\n",
    "\n",
    "submit_df['orderType'] = y_pred\n",
    "submission_path = '../../result/{}_scaleposweight_{}.csv'.format('stacking', 1)\n",
    "\n",
    "submit_df.to_csv(submission_path, index=False, columns=['userid', 'orderType'])\n",
    "print('-------- predict and valid check  ------')\n",
    "print('test count mean: {:.6f} , std: {:.6f}'.format(np.mean(submit_df['orderType']), np.std(submit_df['orderType'])))\n",
    "print('done.')"
   ]
  },
  {
   "cell_type": "code",
   "execution_count": null,
   "metadata": {
    "collapsed": true
   },
   "outputs": [],
   "source": []
  }
 ],
 "metadata": {
  "kernelspec": {
   "display_name": "Python 2",
   "language": "python",
   "name": "python2"
  },
  "language_info": {
   "codemirror_mode": {
    "name": "ipython",
    "version": 2
   },
   "file_extension": ".py",
   "mimetype": "text/x-python",
   "name": "python",
   "nbconvert_exporter": "python",
   "pygments_lexer": "ipython2",
   "version": "2.7.6"
  }
 },
 "nbformat": 4,
 "nbformat_minor": 2
}
