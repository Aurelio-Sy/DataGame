{
 "cells": [
  {
   "cell_type": "code",
   "execution_count": 7,
   "metadata": {
    "collapsed": true
   },
   "outputs": [],
   "source": [
    "import os\n",
    "import sys\n",
    "module_path = os.path.abspath(os.path.join('../../'))\n",
    "sys.path.append(module_path)\n",
    "\n",
    "import cPickle\n",
    "import matplotlib\n",
    "import matplotlib.pyplot as plt\n",
    "import seaborn as sns\n",
    "sns.set_style('whitegrid')\n",
    "color = sns.color_palette()\n",
    "%matplotlib inline\n",
    "matplotlib.style.use('ggplot')\n",
    "\n",
    "import time\n",
    "import numpy as np\n",
    "import pandas as pd\n",
    "from IPython.display import display\n",
    "\n",
    "# remove warnings\n",
    "import warnings\n",
    "warnings.filterwarnings('ignore')\n",
    "\n",
    "import xgboost as xgb\n",
    "from sklearn.model_selection import train_test_split\n",
    "from sklearn.metrics import auc, roc_curve\n",
    "from itertools import product\n",
    "\n",
    "# my module\n",
    "from conf.configure import Configure\n",
    "from utils import data_utils, dataframe_util\n",
    "from utils.common_utils import common_num_range\n",
    "\n",
    "import model.get_datasets as gd\n",
    "from conf.configure import Configure"
   ]
  },
  {
   "cell_type": "markdown",
   "metadata": {},
   "source": [
    "# Load Datasets"
   ]
  },
  {
   "cell_type": "code",
   "execution_count": 10,
   "metadata": {},
   "outputs": [
    {
     "name": "stdout",
     "output_type": "stream",
     "text": [
      "load level-1 train test datasets\n",
      "train_all: ((40307, 230)), test: ((10076, 230))\n"
     ]
    }
   ],
   "source": [
    "# 构建模型输入\n",
    "def pre_train():\n",
    "    with open('./level1_train.pkl', \"rb\") as f:\n",
    "        train = cPickle.load(f)\n",
    "    with open('./level1_test.pkl', \"rb\") as f:\n",
    "        test = cPickle.load(f)\n",
    "\n",
    "    y_train_all = train['orderType']\n",
    "    id_train = train['userid']\n",
    "    train.drop(['orderType', 'userid'], axis=1, inplace=True)\n",
    "\n",
    "    id_test = test['userid']\n",
    "    test.drop(['userid'], axis=1, inplace=True)\n",
    "\n",
    "    train = train[test.columns.values]\n",
    "\n",
    "    print(\"train_all: ({}), test: ({})\".format(train.shape, test.shape))\n",
    "    return train, y_train_all, id_train, test, id_test\n",
    "\n",
    "print(\"load level-1 train test datasets\")\n",
    "train, y_train_all, id_train, test, id_test = pre_train()\n",
    "\n",
    "df_columns = train.columns"
   ]
  },
  {
   "cell_type": "code",
   "execution_count": 11,
   "metadata": {},
   "outputs": [],
   "source": [
    "dtrain = xgb.DMatrix(train.values, y_train_all, feature_names=df_columns)\n",
    "dtest = xgb.DMatrix(test, feature_names=df_columns)"
   ]
  },
  {
   "cell_type": "markdown",
   "metadata": {},
   "source": [
    "# Parameter Fine Tuning"
   ]
  },
  {
   "cell_type": "code",
   "execution_count": 12,
   "metadata": {
    "collapsed": true
   },
   "outputs": [],
   "source": [
    "import xgboost as xgb\n",
    "from sklearn.model_selection import train_test_split\n",
    "from sklearn.metrics import auc, roc_curve\n",
    "from itertools import product\n",
    "\n",
    "def model_cross_validate(xgb_params, cv_param_dict, dtrain, cv_num_boost_round=4000, early_stopping_rounds=100, cv_nfold=5, stratified=True):\n",
    "    params_value = []\n",
    "    params_name = cv_param_dict.keys()\n",
    "    max_auc = 0\n",
    "    for param in params_name:\n",
    "        params_value.append(cv_param_dict[param])\n",
    "\n",
    "    for param_pair in product(*params_value):\n",
    "        param_str = ''\n",
    "        for i in xrange(len(param_pair)):\n",
    "            param_str += params_name[i] + '=' + str(param_pair[i]) + ' '\n",
    "            xgb_params[params_name[i]] = param_pair[i]\n",
    "        \n",
    "        start = time.time()\n",
    "        cv_result = xgb.cv(xgb_params, dtrain, num_boost_round=cv_num_boost_round, stratified=stratified,\n",
    "                           nfold=cv_nfold, early_stopping_rounds=early_stopping_rounds)\n",
    "        \n",
    "        best_num_boost_rounds = len(cv_result)\n",
    "        mean_test_auc = cv_result.loc[best_num_boost_rounds - 6: best_num_boost_rounds - 1, 'test-auc-mean'].mean()\n",
    "        if mean_test_auc > max_auc:\n",
    "            best_param = param_pair\n",
    "            max_auc = mean_test_auc\n",
    "        \n",
    "        end = time.time()\n",
    "        print('Tuning paramter: {}, best_ntree_limit:{}, auc = {:.7f}, cost: {}s'.format(param_str, best_num_boost_rounds,\n",
    "                                                                              mean_test_auc, end-start))\n",
    "    param_str = ''\n",
    "    for i in xrange(len(best_param)):\n",
    "        param_str += params_name[i] + '=' + str(best_param[i]) + ' '\n",
    "        xgb_params[params_name[i]] = best_param[i]\n",
    "    print('===========best paramter: {} auc={:.7f}==========='.format(param_str, max_auc))"
   ]
  },
  {
   "cell_type": "markdown",
   "metadata": {},
   "source": [
    "### Step 1: Fix learning rate and number of estimators for tuning tree-based parameters"
   ]
  },
  {
   "cell_type": "markdown",
   "metadata": {},
   "source": [
    "### Baseline model"
   ]
  },
  {
   "cell_type": "code",
   "execution_count": 13,
   "metadata": {
    "collapsed": true
   },
   "outputs": [],
   "source": [
    "xgb_params = {\n",
    "    'eta': 0.1,\n",
    "    'max_depth': 5,\n",
    "    'min_child_weight': 1,\n",
    "    'scale_pos_weight': 1,\n",
    "    'gamma': 0,\n",
    "    'subsample': 0.8,\n",
    "    'colsample_bytree': 0.8,\n",
    "    'eval_metric': 'auc',\n",
    "    'objective': 'binary:logistic',\n",
    "    'updater': 'grow_gpu',\n",
    "    'gpu_id':0,\n",
    "    'nthread': -1,\n",
    "    'silent': 1,\n",
    "    'booster': 'gbtree',\n",
    "}"
   ]
  },
  {
   "cell_type": "code",
   "execution_count": 14,
   "metadata": {
    "scrolled": true
   },
   "outputs": [
    {
     "name": "stdout",
     "output_type": "stream",
     "text": [
      "---> calc baseline model\n",
      "mean_train_auc = 0.9854473 , mean_test_auc = 0.9734381\n",
      "\n"
     ]
    }
   ],
   "source": [
    "print('---> calc baseline model')\n",
    "\n",
    "cv_num_boost_round=4000\n",
    "early_stopping_rounds=100\n",
    "cv_nfold=5\n",
    "stratified=True\n",
    "\n",
    "cv_result = xgb.cv(xgb_params,\n",
    "                   dtrain,\n",
    "                   nfold=cv_nfold,\n",
    "                   stratified=stratified,\n",
    "                   num_boost_round=cv_num_boost_round,\n",
    "                   early_stopping_rounds=early_stopping_rounds,\n",
    "                   )\n",
    "best_num_boost_rounds = len(cv_result)\n",
    "mean_train_auc = cv_result.loc[best_num_boost_rounds-6 : best_num_boost_rounds-1, 'train-auc-mean'].mean()\n",
    "mean_test_auc = cv_result.loc[best_num_boost_rounds-6 : best_num_boost_rounds-1, 'test-auc-mean'].mean()\n",
    "\n",
    "print('mean_train_auc = {:.7f} , mean_test_auc = {:.7f}\\n'.format(mean_train_auc, mean_test_auc))"
   ]
  },
  {
   "cell_type": "markdown",
   "metadata": {},
   "source": [
    "### Fine tune *max_depth* and *min_child_weight*"
   ]
  },
  {
   "cell_type": "code",
   "execution_count": 15,
   "metadata": {
    "scrolled": false
   },
   "outputs": [
    {
     "name": "stdout",
     "output_type": "stream",
     "text": [
      "Tuning paramter: max_depth=5 min_child_weight=1 , best_ntree_limit:73, auc = 0.9734381, cost: 36.0512120724s\n",
      "Tuning paramter: max_depth=5 min_child_weight=3 , best_ntree_limit:63, auc = 0.9736066, cost: 34.1637780666s\n",
      "Tuning paramter: max_depth=5 min_child_weight=5 , best_ntree_limit:64, auc = 0.9734786, cost: 34.3443319798s\n",
      "Tuning paramter: max_depth=5 min_child_weight=7 , best_ntree_limit:68, auc = 0.9733758, cost: 34.8901040554s\n",
      "Tuning paramter: max_depth=5 min_child_weight=9 , best_ntree_limit:63, auc = 0.9734722, cost: 34.2463109493s\n",
      "Tuning paramter: max_depth=7 min_child_weight=1 , best_ntree_limit:82, auc = 0.9733780, cost: 49.3304550648s\n",
      "Tuning paramter: max_depth=7 min_child_weight=3 , best_ntree_limit:73, auc = 0.9732754, cost: 46.6479659081s\n",
      "Tuning paramter: max_depth=7 min_child_weight=5 , best_ntree_limit:54, auc = 0.9733374, cost: 41.8178870678s\n",
      "Tuning paramter: max_depth=7 min_child_weight=7 , best_ntree_limit:45, auc = 0.9731912, cost: 39.2651641369s\n",
      "Tuning paramter: max_depth=7 min_child_weight=9 , best_ntree_limit:55, auc = 0.9733960, cost: 41.7954380512s\n",
      "Tuning paramter: max_depth=9 min_child_weight=1 , best_ntree_limit:62, auc = 0.9730292, cost: 54.3491809368s\n",
      "Tuning paramter: max_depth=9 min_child_weight=3 , best_ntree_limit:55, auc = 0.9730496, cost: 51.4886288643s\n",
      "Tuning paramter: max_depth=9 min_child_weight=5 , best_ntree_limit:52, auc = 0.9730156, cost: 50.348842144s\n",
      "Tuning paramter: max_depth=9 min_child_weight=7 , best_ntree_limit:52, auc = 0.9732409, cost: 50.1410200596s\n",
      "Tuning paramter: max_depth=9 min_child_weight=9 , best_ntree_limit:57, auc = 0.9732783, cost: 51.6143600941s\n",
      "Tuning paramter: max_depth=11 min_child_weight=1 , best_ntree_limit:78, auc = 0.9727516, cost: 72.5477640629s\n",
      "Tuning paramter: max_depth=11 min_child_weight=3 , best_ntree_limit:65, auc = 0.9730515, cost: 66.439453125s\n",
      "Tuning paramter: max_depth=11 min_child_weight=5 , best_ntree_limit:57, auc = 0.9732193, cost: 63.1164519787s\n",
      "Tuning paramter: max_depth=11 min_child_weight=7 , best_ntree_limit:59, auc = 0.9732122, cost: 63.5469040871s\n",
      "Tuning paramter: max_depth=11 min_child_weight=9 , best_ntree_limit:47, auc = 0.9728988, cost: 58.6756231785s\n",
      "Tuning paramter: max_depth=13 min_child_weight=1 , best_ntree_limit:82, auc = 0.9732644, cost: 97.7994320393s\n",
      "Tuning paramter: max_depth=13 min_child_weight=3 , best_ntree_limit:62, auc = 0.9725983, cost: 86.3810460567s\n",
      "Tuning paramter: max_depth=13 min_child_weight=5 , best_ntree_limit:48, auc = 0.9728523, cost: 78.646957159s\n",
      "Tuning paramter: max_depth=13 min_child_weight=7 , best_ntree_limit:50, auc = 0.9729630, cost: 78.9593298435s\n",
      "Tuning paramter: max_depth=13 min_child_weight=9 , best_ntree_limit:44, auc = 0.9729671, cost: 75.924587965s\n",
      "===========best paramter: max_depth=5 min_child_weight=3  auc=0.9736066===========\n"
     ]
    }
   ],
   "source": [
    "cv_paramters = {'max_depth':range(5,15,2),'min_child_weight':range(1,10,2)}\n",
    "model_cross_validate(xgb_params, cv_paramters, dtrain)"
   ]
  },
  {
   "cell_type": "code",
   "execution_count": 12,
   "metadata": {
    "scrolled": true
   },
   "outputs": [
    {
     "name": "stdout",
     "output_type": "stream",
     "text": [
      "Tuning paramter: max_depth=4 min_child_weight=6 , best_ntree_limit:54, auc = 0.9732905, cost: 25.8395490646s\n",
      "Tuning paramter: max_depth=4 min_child_weight=7 , best_ntree_limit:58, auc = 0.9734178, cost: 26.1778271198s\n",
      "Tuning paramter: max_depth=4 min_child_weight=8 , best_ntree_limit:64, auc = 0.9734460, cost: 27.112226963s\n",
      "Tuning paramter: max_depth=5 min_child_weight=6 , best_ntree_limit:56, auc = 0.9732834, cost: 29.7443609238s\n",
      "Tuning paramter: max_depth=5 min_child_weight=7 , best_ntree_limit:59, auc = 0.9733319, cost: 30.3012568951s\n",
      "Tuning paramter: max_depth=5 min_child_weight=8 , best_ntree_limit:52, auc = 0.9731810, cost: 29.3285639286s\n",
      "Tuning paramter: max_depth=6 min_child_weight=6 , best_ntree_limit:53, auc = 0.9730169, cost: 33.7446899414s\n",
      "Tuning paramter: max_depth=6 min_child_weight=7 , best_ntree_limit:54, auc = 0.9731490, cost: 33.6167500019s\n",
      "Tuning paramter: max_depth=6 min_child_weight=8 , best_ntree_limit:47, auc = 0.9730791, cost: 32.1935799122s\n",
      "===========best paramter: max_depth=4 min_child_weight=8  auc=0.9734460===========\n"
     ]
    }
   ],
   "source": [
    "cv_paramters = {'max_depth':range(4,7,1),'min_child_weight':range(6,9,1)}\n",
    "model_cross_validate(xgb_params, cv_paramters, dtrain)"
   ]
  },
  {
   "cell_type": "code",
   "execution_count": 14,
   "metadata": {},
   "outputs": [
    {
     "data": {
      "text/plain": [
       "{'booster': 'gbtree',\n",
       " 'colsample_bytree': 0.8,\n",
       " 'eta': 0.1,\n",
       " 'eval_metric': 'auc',\n",
       " 'gamma': 0,\n",
       " 'gpu_id': 0,\n",
       " 'max_depth': 4,\n",
       " 'min_child_weight': 8,\n",
       " 'nthread': -1,\n",
       " 'objective': 'binary:logistic',\n",
       " 'scale_pos_weight': 1,\n",
       " 'silent': 1,\n",
       " 'subsample': 0.8,\n",
       " 'updater': 'grow_gpu'}"
      ]
     },
     "execution_count": 14,
     "metadata": {},
     "output_type": "execute_result"
    }
   ],
   "source": [
    "xgb_params"
   ]
  },
  {
   "cell_type": "markdown",
   "metadata": {},
   "source": [
    "### Tune gamma"
   ]
  },
  {
   "cell_type": "code",
   "execution_count": 16,
   "metadata": {
    "collapsed": true
   },
   "outputs": [],
   "source": [
    "cv_paramters={'gamma':common_num_range(0,10,1)}\n",
    "# model_cross_validate(xgb_params, cv_paramters, dtrain)"
   ]
  },
  {
   "cell_type": "markdown",
   "metadata": {},
   "source": [
    "### Tune subsample and colsample_bytree"
   ]
  },
  {
   "cell_type": "code",
   "execution_count": 18,
   "metadata": {},
   "outputs": [
    {
     "name": "stdout",
     "output_type": "stream",
     "text": [
      "Tuning paramter: subsample=0.5 colsample_bytree=0.5 , best_ntree_limit:70, auc = 0.9731489, cost: 24.0094490051s\n",
      "Tuning paramter: subsample=0.5 colsample_bytree=0.6 , best_ntree_limit:54, auc = 0.9733420, cost: 22.4456419945s\n",
      "Tuning paramter: subsample=0.5 colsample_bytree=0.7 , best_ntree_limit:60, auc = 0.9732883, cost: 24.2585279942s\n",
      "Tuning paramter: subsample=0.5 colsample_bytree=0.8 , best_ntree_limit:63, auc = 0.9731890, cost: 26.9154629707s\n",
      "Tuning paramter: subsample=0.5 colsample_bytree=0.9 , best_ntree_limit:40, auc = 0.9731698, cost: 24.2228560448s\n",
      "Tuning paramter: subsample=0.5 colsample_bytree=1.0 , best_ntree_limit:57, auc = 0.9732814, cost: 27.7345571518s\n",
      "Tuning paramter: subsample=0.6 colsample_bytree=0.5 , best_ntree_limit:49, auc = 0.9731815, cost: 21.2189290524s\n",
      "Tuning paramter: subsample=0.6 colsample_bytree=0.6 , best_ntree_limit:57, auc = 0.9733749, cost: 22.9462361336s\n",
      "Tuning paramter: subsample=0.6 colsample_bytree=0.7 , best_ntree_limit:59, auc = 0.9735234, cost: 24.1926500797s\n",
      "Tuning paramter: subsample=0.6 colsample_bytree=0.8 , best_ntree_limit:84, auc = 0.9734016, cost: 30.0339739323s\n",
      "Tuning paramter: subsample=0.6 colsample_bytree=0.9 , best_ntree_limit:56, auc = 0.9734110, cost: 26.6965949535s\n",
      "Tuning paramter: subsample=0.6 colsample_bytree=1.0 , best_ntree_limit:75, auc = 0.9734095, cost: 30.559335947s\n",
      "Tuning paramter: subsample=0.7 colsample_bytree=0.5 , best_ntree_limit:62, auc = 0.9731970, cost: 22.9540338516s\n",
      "Tuning paramter: subsample=0.7 colsample_bytree=0.6 , best_ntree_limit:53, auc = 0.9732549, cost: 22.477189064s\n",
      "Tuning paramter: subsample=0.7 colsample_bytree=0.7 , best_ntree_limit:59, auc = 0.9732440, cost: 24.0670981407s\n",
      "Tuning paramter: subsample=0.7 colsample_bytree=0.8 , best_ntree_limit:59, auc = 0.9734167, cost: 26.6765260696s\n",
      "Tuning paramter: subsample=0.7 colsample_bytree=0.9 , best_ntree_limit:78, auc = 0.9731878, cost: 30.1875751019s\n",
      "Tuning paramter: subsample=0.7 colsample_bytree=1.0 , best_ntree_limit:56, auc = 0.9732945, cost: 27.5864500999s\n",
      "Tuning paramter: subsample=0.8 colsample_bytree=0.5 , best_ntree_limit:57, auc = 0.9732707, cost: 22.2412409782s\n",
      "Tuning paramter: subsample=0.8 colsample_bytree=0.6 , best_ntree_limit:67, auc = 0.9733260, cost: 24.2704958916s\n",
      "Tuning paramter: subsample=0.8 colsample_bytree=0.7 , best_ntree_limit:66, auc = 0.9732583, cost: 25.0631051064s\n",
      "Tuning paramter: subsample=0.8 colsample_bytree=0.8 , best_ntree_limit:64, auc = 0.9734460, cost: 27.1546609402s\n",
      "Tuning paramter: subsample=0.8 colsample_bytree=0.9 , best_ntree_limit:69, auc = 0.9733131, cost: 28.7951891422s\n",
      "Tuning paramter: subsample=0.8 colsample_bytree=1.0 , best_ntree_limit:56, auc = 0.9733844, cost: 27.5662508011s\n",
      "Tuning paramter: subsample=0.9 colsample_bytree=0.5 , best_ntree_limit:85, auc = 0.9732600, cost: 25.8054080009s\n",
      "Tuning paramter: subsample=0.9 colsample_bytree=0.6 , best_ntree_limit:80, auc = 0.9733889, cost: 25.9900178909s\n",
      "Tuning paramter: subsample=0.9 colsample_bytree=0.7 , best_ntree_limit:84, auc = 0.9732184, cost: 27.4559130669s\n",
      "Tuning paramter: subsample=0.9 colsample_bytree=0.8 , best_ntree_limit:51, auc = 0.9731776, cost: 25.1302130222s\n",
      "Tuning paramter: subsample=0.9 colsample_bytree=0.9 , best_ntree_limit:57, auc = 0.9732243, cost: 27.0447409153s\n",
      "Tuning paramter: subsample=0.9 colsample_bytree=1.0 , best_ntree_limit:76, auc = 0.9732968, cost: 30.9127099514s\n",
      "Tuning paramter: subsample=1.0 colsample_bytree=0.5 , best_ntree_limit:71, auc = 0.9732885, cost: 24.1146819592s\n",
      "Tuning paramter: subsample=1.0 colsample_bytree=0.6 , best_ntree_limit:83, auc = 0.9731706, cost: 26.2910690308s\n",
      "Tuning paramter: subsample=1.0 colsample_bytree=0.7 , best_ntree_limit:109, auc = 0.9733860, cost: 30.9676918983s\n",
      "Tuning paramter: subsample=1.0 colsample_bytree=0.8 , best_ntree_limit:76, auc = 0.9733134, cost: 28.8599681854s\n",
      "Tuning paramter: subsample=1.0 colsample_bytree=0.9 , best_ntree_limit:75, auc = 0.9733134, cost: 29.6262280941s\n",
      "Tuning paramter: subsample=1.0 colsample_bytree=1.0 , best_ntree_limit:80, auc = 0.9733290, cost: 31.3675079346s\n",
      "===========best paramter: subsample=0.6 colsample_bytree=0.7  auc=0.9735234===========\n"
     ]
    }
   ],
   "source": [
    "cv_paramters = {'subsample':common_num_range(0.5, 1.1, 0.1), 'colsample_bytree':common_num_range(0.5, 1.1, 0.1)}\n",
    "model_cross_validate(xgb_params,cv_paramters,dtrain)"
   ]
  },
  {
   "cell_type": "code",
   "execution_count": 19,
   "metadata": {},
   "outputs": [
    {
     "data": {
      "text/plain": [
       "{'booster': 'gbtree',\n",
       " 'colsample_bytree': 0.7,\n",
       " 'eta': 0.1,\n",
       " 'eval_metric': 'auc',\n",
       " 'gamma': 2,\n",
       " 'gpu_id': 0,\n",
       " 'max_depth': 4,\n",
       " 'min_child_weight': 8,\n",
       " 'nthread': -1,\n",
       " 'objective': 'binary:logistic',\n",
       " 'scale_pos_weight': 1,\n",
       " 'silent': 1,\n",
       " 'subsample': 0.6,\n",
       " 'updater': 'grow_gpu'}"
      ]
     },
     "execution_count": 19,
     "metadata": {},
     "output_type": "execute_result"
    }
   ],
   "source": [
    "xgb_params"
   ]
  },
  {
   "cell_type": "markdown",
   "metadata": {},
   "source": [
    "### Tuning Regularization Parameters: alpha, lambda"
   ]
  },
  {
   "cell_type": "code",
   "execution_count": 21,
   "metadata": {},
   "outputs": [
    {
     "name": "stdout",
     "output_type": "stream",
     "text": [
      "Tuning paramter: alpha=1e-05 lambda=1e-05 , best_ntree_limit:72, auc = 0.9734046, cost: 26.0356299877s\n",
      "Tuning paramter: alpha=1e-05 lambda=0.1 , best_ntree_limit:67, auc = 0.9734315, cost: 25.136633873s\n",
      "Tuning paramter: alpha=1e-05 lambda=1 , best_ntree_limit:59, auc = 0.9735237, cost: 24.3639791012s\n",
      "Tuning paramter: alpha=1e-05 lambda=10 , best_ntree_limit:69, auc = 0.9734861, cost: 25.3926680088s\n",
      "Tuning paramter: alpha=1e-05 lambda=100 , best_ntree_limit:231, auc = 0.9733721, cost: 47.7388989925s\n",
      "Tuning paramter: alpha=0.1 lambda=1e-05 , best_ntree_limit:58, auc = 0.9733950, cost: 23.9442150593s\n",
      "Tuning paramter: alpha=0.1 lambda=0.1 , best_ntree_limit:67, auc = 0.9733426, cost: 25.2285971642s\n",
      "Tuning paramter: alpha=0.1 lambda=1 , best_ntree_limit:67, auc = 0.9735321, cost: 25.1685349941s\n",
      "Tuning paramter: alpha=0.1 lambda=10 , best_ntree_limit:90, auc = 0.9734943, cost: 28.3662488461s\n",
      "Tuning paramter: alpha=0.1 lambda=100 , best_ntree_limit:136, auc = 0.9733611, cost: 34.6439578533s\n",
      "Tuning paramter: alpha=1 lambda=1e-05 , best_ntree_limit:92, auc = 0.9733862, cost: 28.6240530014s\n",
      "Tuning paramter: alpha=1 lambda=0.1 , best_ntree_limit:73, auc = 0.9733994, cost: 26.2356240749s\n",
      "Tuning paramter: alpha=1 lambda=1 , best_ntree_limit:67, auc = 0.9733999, cost: 25.4315681458s\n",
      "Tuning paramter: alpha=1 lambda=10 , best_ntree_limit:71, auc = 0.9735139, cost: 26.7225399017s\n",
      "Tuning paramter: alpha=1 lambda=100 , best_ntree_limit:127, auc = 0.9732853, cost: 33.7326509953s\n",
      "Tuning paramter: alpha=10 lambda=1e-05 , best_ntree_limit:109, auc = 0.9733750, cost: 31.261703968s\n",
      "Tuning paramter: alpha=10 lambda=0.1 , best_ntree_limit:71, auc = 0.9733503, cost: 26.1400351524s\n",
      "Tuning paramter: alpha=10 lambda=1 , best_ntree_limit:71, auc = 0.9733991, cost: 25.8103978634s\n",
      "Tuning paramter: alpha=10 lambda=10 , best_ntree_limit:109, auc = 0.9734046, cost: 31.371696949s\n",
      "Tuning paramter: alpha=10 lambda=100 , best_ntree_limit:184, auc = 0.9733008, cost: 41.7343628407s\n",
      "Tuning paramter: alpha=100 lambda=1e-05 , best_ntree_limit:66, auc = 0.9717917, cost: 24.6702198982s\n",
      "Tuning paramter: alpha=100 lambda=0.1 , best_ntree_limit:65, auc = 0.9717791, cost: 24.4422819614s\n",
      "Tuning paramter: alpha=100 lambda=1 , best_ntree_limit:65, auc = 0.9717982, cost: 24.3578939438s\n",
      "Tuning paramter: alpha=100 lambda=10 , best_ntree_limit:66, auc = 0.9716589, cost: 24.6617259979s\n",
      "Tuning paramter: alpha=100 lambda=100 , best_ntree_limit:167, auc = 0.9718175, cost: 40.3501720428s\n",
      "===========best paramter: alpha=0.1 lambda=1  auc=0.9735321===========\n"
     ]
    }
   ],
   "source": [
    "cv_paramters = {'alpha':[1e-5, 0.1, 1, 10, 100],\n",
    "                'lambda':[1e-5, 0.1, 1, 10, 100]}\n",
    "model_cross_validate(xgb_params,cv_paramters,dtrain)"
   ]
  },
  {
   "cell_type": "markdown",
   "metadata": {},
   "source": [
    "### Reducing Learning Rate and Done!"
   ]
  },
  {
   "cell_type": "code",
   "execution_count": 22,
   "metadata": {},
   "outputs": [
    {
     "data": {
      "text/plain": [
       "{'alpha': 0.1,\n",
       " 'booster': 'gbtree',\n",
       " 'colsample_bytree': 0.7,\n",
       " 'eta': 0.1,\n",
       " 'eval_metric': 'auc',\n",
       " 'gamma': 2,\n",
       " 'gpu_id': 0,\n",
       " 'lambda': 1,\n",
       " 'max_depth': 4,\n",
       " 'min_child_weight': 8,\n",
       " 'nthread': -1,\n",
       " 'objective': 'binary:logistic',\n",
       " 'scale_pos_weight': 1,\n",
       " 'silent': 1,\n",
       " 'subsample': 0.6,\n",
       " 'updater': 'grow_gpu'}"
      ]
     },
     "execution_count": 22,
     "metadata": {},
     "output_type": "execute_result"
    }
   ],
   "source": [
    "xgb_params"
   ]
  },
  {
   "cell_type": "code",
   "execution_count": 23,
   "metadata": {
    "collapsed": true
   },
   "outputs": [],
   "source": [
    "xgb_params['eta'] = 0.01"
   ]
  },
  {
   "cell_type": "code",
   "execution_count": 24,
   "metadata": {},
   "outputs": [
    {
     "data": {
      "text/plain": [
       "{'alpha': 0.1,\n",
       " 'booster': 'gbtree',\n",
       " 'colsample_bytree': 0.7,\n",
       " 'eta': 0.01,\n",
       " 'eval_metric': 'auc',\n",
       " 'gamma': 2,\n",
       " 'gpu_id': 0,\n",
       " 'lambda': 1,\n",
       " 'max_depth': 4,\n",
       " 'min_child_weight': 8,\n",
       " 'nthread': -1,\n",
       " 'objective': 'binary:logistic',\n",
       " 'scale_pos_weight': 1,\n",
       " 'silent': 1,\n",
       " 'subsample': 0.6,\n",
       " 'updater': 'grow_gpu'}"
      ]
     },
     "execution_count": 24,
     "metadata": {},
     "output_type": "execute_result"
    }
   ],
   "source": [
    "xgb_params"
   ]
  },
  {
   "cell_type": "code",
   "execution_count": null,
   "metadata": {
    "collapsed": true
   },
   "outputs": [],
   "source": []
  }
 ],
 "metadata": {
  "kernelspec": {
   "display_name": "Python 2",
   "language": "python",
   "name": "python2"
  },
  "language_info": {
   "codemirror_mode": {
    "name": "ipython",
    "version": 2
   },
   "file_extension": ".py",
   "mimetype": "text/x-python",
   "name": "python",
   "nbconvert_exporter": "python",
   "pygments_lexer": "ipython2",
   "version": "2.7.6"
  }
 },
 "nbformat": 4,
 "nbformat_minor": 2
}
